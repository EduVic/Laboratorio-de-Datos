{
  "nbformat": 4,
  "nbformat_minor": 0,
  "metadata": {
    "colab": {
      "provenance": [],
      "collapsed_sections": [
        "2EV8v366ss-p",
        "kWAjtmues6hv",
        "3qvgmsZ3uwH1"
      ]
    },
    "kernelspec": {
      "name": "python3",
      "display_name": "Python 3"
    },
    "language_info": {
      "name": "python"
    }
  },
  "cells": [
    {
      "cell_type": "markdown",
      "source": [
        "# **Estudio consumo alimentación en los hogares españoles**"
      ],
      "metadata": {
        "id": "eu6MqyNjA-bF"
      }
    },
    {
      "cell_type": "markdown",
      "source": [
        "Este notebook explica el trabajo de preprocesamiento y preparación de los datos para generar las visualizaciones del cuadro de mandos.\n",
        "\n",
        "Para llevar a cabo esta tarea de manera práctica hemos seleccionado conjuntos de datos correspondientes a series anuales pertenecientes al [Ministerio de Agricultura, Pesca y Alimentación.](https://www.mapa.gob.es/es/alimentacion/temas/consumo-tendencias/panel-de-consumo-alimentario/series-anuales/)\n",
        "\n",
        "Pero antes tenemos que realizar una serie de tareas para preparar los datos que posteriormente utilizaremos en las visualizaciones. A continuación, te explicamos cómo lo hacemos.\n",
        "\n",
        "Los pasos que se seguirán para preparar los datos son los siguientes:\n",
        "\n",
        "1.   Instalación de librerías y carga de los conjuntos de datos\n",
        "2.   Análisis Exploratorio de los Datos (EDA)\n",
        "3.   Generación de tablas preprocesas\n",
        "\n"
      ],
      "metadata": {
        "id": "wOIwecVlCUgL"
      }
    },
    {
      "cell_type": "markdown",
      "source": [
        "## 1. Instalación de librerías y carga de los conjuntos de datos"
      ],
      "metadata": {
        "id": "2EV8v366ss-p"
      }
    },
    {
      "cell_type": "markdown",
      "source": [
        "Lo primero que debemos hacer es importar y cargar las librerías que utilizaremos en el preprocesamiento de los datos.\n",
        "\n",
        "*    [pandas](https://pandas.pydata.org/) es una librería de Python especializada en el manejo y análisis de estructuras de datos.\n",
        "\n",
        "*    [gitpython](https://gitpython.readthedocs.io/en/stable/) es una librería de Python que permite interactuar con el sistema de control de versiones Git."
      ],
      "metadata": {
        "id": "LBpE_QkZDyh1"
      }
    },
    {
      "cell_type": "code",
      "source": [
        "# Mediante el comando !pip instalamos las librerias\n",
        "!pip install pandas\n",
        "!pip install gitpython"
      ],
      "metadata": {
        "colab": {
          "base_uri": "https://localhost:8080/"
        },
        "id": "D4RNqr14JGml",
        "outputId": "e7512e5f-204d-4aff-93d9-9935edc2b65b"
      },
      "execution_count": null,
      "outputs": [
        {
          "output_type": "stream",
          "name": "stdout",
          "text": [
            "Looking in indexes: https://pypi.org/simple, https://us-python.pkg.dev/colab-wheels/public/simple/\n",
            "Requirement already satisfied: pandas in /usr/local/lib/python3.10/dist-packages (1.5.3)\n",
            "Requirement already satisfied: python-dateutil>=2.8.1 in /usr/local/lib/python3.10/dist-packages (from pandas) (2.8.2)\n",
            "Requirement already satisfied: pytz>=2020.1 in /usr/local/lib/python3.10/dist-packages (from pandas) (2022.7.1)\n",
            "Requirement already satisfied: numpy>=1.21.0 in /usr/local/lib/python3.10/dist-packages (from pandas) (1.22.4)\n",
            "Requirement already satisfied: six>=1.5 in /usr/local/lib/python3.10/dist-packages (from python-dateutil>=2.8.1->pandas) (1.16.0)\n",
            "Looking in indexes: https://pypi.org/simple, https://us-python.pkg.dev/colab-wheels/public/simple/\n",
            "Collecting gitpython\n",
            "  Downloading GitPython-3.1.31-py3-none-any.whl (184 kB)\n",
            "\u001b[2K     \u001b[90m━━━━━━━━━━━━━━━━━━━━━━━━━━━━━━━━━━━━━━━\u001b[0m \u001b[32m184.3/184.3 kB\u001b[0m \u001b[31m9.8 MB/s\u001b[0m eta \u001b[36m0:00:00\u001b[0m\n",
            "\u001b[?25hCollecting gitdb<5,>=4.0.1 (from gitpython)\n",
            "  Downloading gitdb-4.0.10-py3-none-any.whl (62 kB)\n",
            "\u001b[2K     \u001b[90m━━━━━━━━━━━━━━━━━━━━━━━━━━━━━━━━━━━━━━━━\u001b[0m \u001b[32m62.7/62.7 kB\u001b[0m \u001b[31m7.1 MB/s\u001b[0m eta \u001b[36m0:00:00\u001b[0m\n",
            "\u001b[?25hCollecting smmap<6,>=3.0.1 (from gitdb<5,>=4.0.1->gitpython)\n",
            "  Downloading smmap-5.0.0-py3-none-any.whl (24 kB)\n",
            "Installing collected packages: smmap, gitdb, gitpython\n",
            "Successfully installed gitdb-4.0.10 gitpython-3.1.31 smmap-5.0.0\n"
          ]
        }
      ]
    },
    {
      "cell_type": "code",
      "execution_count": null,
      "metadata": {
        "id": "JpqvDW9ZUR8A"
      },
      "outputs": [],
      "source": [
        "# Cargamos las librerías a utilizar\n",
        "import pandas as pd\n",
        "import git\n",
        "import warnings\n",
        "warnings.filterwarnings(\"ignore\")"
      ]
    },
    {
      "cell_type": "code",
      "source": [
        "# Clonamos el repositorio de github con los conjuntos de datos originales en el entorno de Google Colaboratory\n",
        "git.Repo.clone_from(\"https://github.com/datosgobes/Laboratorio-de-Datos.git\", \"/content/repositorios\")"
      ],
      "metadata": {
        "colab": {
          "base_uri": "https://localhost:8080/"
        },
        "id": "WFeqQX91KKBH",
        "outputId": "5460e4df-9662-4728-ab19-397cc5e90316"
      },
      "execution_count": null,
      "outputs": [
        {
          "output_type": "execute_result",
          "data": {
            "text/plain": [
              "<git.repo.base.Repo '/content/repositorios/.git'>"
            ]
          },
          "metadata": {},
          "execution_count": 3
        }
      ]
    },
    {
      "cell_type": "markdown",
      "source": [
        "Cargamos utilizando varias funciones los datos que nos interesan de los distintos conjuntos de datos. Hay que tener en cuenta que la información que nos interesa para el análisis (consumo per cápita y gasto per cápita), se encuentra en hojas específicas de cada fichero excel."
      ],
      "metadata": {
        "id": "_mxe2WD5HO8V"
      }
    },
    {
      "cell_type": "code",
      "source": [
        "# Introducimos dentro de una lista el nombre de los conjuntos de datos\n",
        "files = [\"2011\", \"2012\", \"2013\", \"2014\", \"2015\", \"2016\", \"2017\", \"2018\", \"2019\", \"2020\", \"2021\"]\n",
        "\n",
        "# Creamos una función que obtenga los datos que necesitamos para el análisis\n",
        "def carga (df):\n",
        "  df = pd.read_excel(\"/content/repositorios/Visualizaciones/Estudio_alimentacion_hogares_españoles/Datos_origen/\" + df + \".xlsx\", sheet_name=4, header=2)\n",
        "  df[\"Análisis\"] = \"Consumo x cápita (kg)\"\n",
        "  return(df)\n",
        "\n",
        "# Creamos una función que obtenga los datos que necesitamos para el análisis\n",
        "def carga1 (df):\n",
        "  df = pd.read_excel(\"/content/repositorios/Visualizaciones/Estudio_alimentacion_hogares_españoles/Datos_origen/\" + df + \".xlsx\", sheet_name=5, header=2)\n",
        "  df[\"Análisis\"] = \"Consumo x cápita (kg)\"\n",
        "  return(df)\n",
        "\n",
        "# Creamos una función que obtenga los datos que necesitamos para el análisis\n",
        "def carga2 (df):\n",
        "  df = pd.read_excel(\"/content/repositorios/Visualizaciones/Estudio_alimentacion_hogares_españoles/Datos_origen/\" + df + \".xlsx\", sheet_name=5, header=2)\n",
        "  df[\"Análisis\"] = \"Gasto x cápita (euros)\"\n",
        "  return(df)\n",
        "\n",
        "# Creamos una función que obtenga los datos que necesitamos para el análisis\n",
        "def carga3 (df):\n",
        "  df = pd.read_excel(\"/content/repositorios/Visualizaciones/Estudio_alimentacion_hogares_españoles/Datos_origen/\" + df + \".xlsx\", sheet_name=6, header=2)\n",
        "  df[\"Análisis\"] = \"Gasto x cápita (euros)\"\n",
        "  return(df)\n",
        "\n",
        "# Hacemos una llamada a la funciónes anteriores y creamos una tabla para cada uno de los conjuntos de datos relativos a la hoja del excel \"CONSUMOXCAPITA\"\n",
        "df_2011_consumoxcapita = carga(files[0])\n",
        "df_2012_consumoxcapita = carga(files[1])\n",
        "df_2013_consumoxcapita = carga(files[2])\n",
        "df_2014_consumoxcapita = carga(files[3])\n",
        "df_2015_consumoxcapita = carga(files[4])\n",
        "df_2016_consumoxcapita = carga(files[5])\n",
        "df_2017_consumoxcapita = carga(files[6])\n",
        "df_2018_consumoxcapita = carga(files[7])\n",
        "df_2019_consumoxcapita = carga(files[8])\n",
        "df_2020_consumoxcapita = carga1(files[9])\n",
        "df_2021_consumoxcapita = carga1(files[10])\n",
        "\n",
        "# Hacemos una llamada a la funciónes anteriores y creamos una tabla para cada uno de los conjuntos de datos relativos a la hoja del excel \"GASTOXCAPITA\"\n",
        "df_2011_gastoxcapita = carga2(files[0])\n",
        "df_2012_gastoxcapita = carga2(files[1])\n",
        "df_2013_gastoxcapita = carga2(files[2])\n",
        "df_2014_gastoxcapita = carga2(files[3])\n",
        "df_2015_gastoxcapita = carga2(files[4])\n",
        "df_2016_gastoxcapita = carga2(files[5])\n",
        "df_2017_gastoxcapita = carga2(files[6])\n",
        "df_2018_gastoxcapita = carga2(files[7])\n",
        "df_2019_gastoxcapita = carga2(files[8])\n",
        "df_2020_gastoxcapita = carga3(files[9])\n",
        "df_2021_gastoxcapita = carga3(files[10])"
      ],
      "metadata": {
        "id": "2VWB8V2pWLS9"
      },
      "execution_count": null,
      "outputs": []
    },
    {
      "cell_type": "code",
      "source": [
        "# Juntamos en una tabla, la información obtenida anteriormente para cada uno de los años\n",
        "df_2011 = pd.concat([df_2011_consumoxcapita, df_2011_gastoxcapita], ignore_index=True)\n",
        "df_2012 = pd.concat([df_2012_consumoxcapita, df_2012_gastoxcapita], ignore_index=True)\n",
        "df_2013 = pd.concat([df_2013_consumoxcapita, df_2013_gastoxcapita], ignore_index=True)\n",
        "df_2014 = pd.concat([df_2014_consumoxcapita, df_2014_gastoxcapita], ignore_index=True)\n",
        "df_2015 = pd.concat([df_2015_consumoxcapita, df_2015_gastoxcapita], ignore_index=True)\n",
        "df_2016 = pd.concat([df_2016_consumoxcapita, df_2016_gastoxcapita], ignore_index=True)\n",
        "df_2017 = pd.concat([df_2017_consumoxcapita, df_2017_gastoxcapita], ignore_index=True)\n",
        "df_2018 = pd.concat([df_2018_consumoxcapita, df_2018_gastoxcapita], ignore_index=True)\n",
        "df_2019 = pd.concat([df_2019_consumoxcapita, df_2019_gastoxcapita], ignore_index=True)\n",
        "df_2020 = pd.concat([df_2021_consumoxcapita, df_2020_gastoxcapita], ignore_index=True)\n",
        "df_2021 = pd.concat([df_2021_consumoxcapita, df_2021_gastoxcapita], ignore_index=True)"
      ],
      "metadata": {
        "id": "OPeNcX105lb9"
      },
      "execution_count": null,
      "outputs": []
    },
    {
      "cell_type": "markdown",
      "source": [
        "## 2. Análisis Exploratorio de Datos (EDA)"
      ],
      "metadata": {
        "id": "kWAjtmues6hv"
      }
    },
    {
      "cell_type": "markdown",
      "source": [
        "Realizamos un análisis exploratorio de los datos donde, por un lado, buscamos detectar anomalías y por otro lado, obtener información de los conjuntos de datos que estamos utilizando."
      ],
      "metadata": {
        "id": "huAlfPxsHxd8"
      }
    },
    {
      "cell_type": "code",
      "source": [
        "# Generamos una lista con las tablas de datos generadas en el apartado anterior a las que realizaremos el EDA\n",
        "lista_df = [df_2011, df_2012, df_2013, df_2014,df_2015,df_2016,df_2017,df_2018, df_2019, df_2020, df_2021]\n",
        "\n",
        "# Mediante un bucle \"for\" imprimimos en pantalla la principal información de cada tabla de datos que se encuentra en la lista\n",
        "for i, df in enumerate(lista_df):\n",
        "    # Generamos una variable con el nombre de la tabla de datos\n",
        "    tabla_nombre = f\"df_{2011 + i}\"\n",
        "    # Imprimimos en pantalla el nombre de la tabla de datos e información de cada una de ellas\n",
        "    print(\"Nombre de la tabla de datos:\", tabla_nombre)\n",
        "    print(df.info())\n",
        "    # Buscamos valores nulos o ausentes en la tabla de datos, imprimiento en pantalla si los hay o no\n",
        "    if df.isna().any().any():\n",
        "      print(\"Hay valores NA en la tabla de datos\" + \"\\n\")\n",
        "    else:\n",
        "      print(\"No hay valores NA en la tabla de datos\" + \"\\n\")"
      ],
      "metadata": {
        "id": "bsc1czhIu365",
        "colab": {
          "base_uri": "https://localhost:8080/"
        },
        "outputId": "112eb0d7-3f7f-4847-a71f-7833a5ae2536"
      },
      "execution_count": null,
      "outputs": [
        {
          "output_type": "stream",
          "name": "stdout",
          "text": [
            "Nombre de la tabla de datos: df_2011\n",
            "<class 'pandas.core.frame.DataFrame'>\n",
            "RangeIndex: 1112 entries, 0 to 1111\n",
            "Data columns (total 28 columns):\n",
            " #   Column              Non-Null Count  Dtype  \n",
            "---  ------              --------------  -----  \n",
            " 0   Unnamed: 0          1112 non-null   object \n",
            " 1   T.ESPAÑA            1112 non-null   float64\n",
            " 2   CATALUÑA            1112 non-null   float64\n",
            " 3   ARAGON              1112 non-null   float64\n",
            " 4   BALEARES            1112 non-null   float64\n",
            " 5   VALENCIA            1112 non-null   float64\n",
            " 6   MURCIA              1112 non-null   float64\n",
            " 7   T.ANDALUCIA         1112 non-null   float64\n",
            " 8   MADRID              1112 non-null   float64\n",
            " 9   CASTILLA LA MANCHA  1112 non-null   float64\n",
            " 10  EXTREMADURA         1112 non-null   float64\n",
            " 11  CASTILLA LEON       1112 non-null   float64\n",
            " 12  GALICIA             1112 non-null   float64\n",
            " 13  ASTURIAS            1112 non-null   float64\n",
            " 14  CANTABRIA           1112 non-null   float64\n",
            " 15  PAIS VASCO          1112 non-null   float64\n",
            " 16  LA RIOJA            1112 non-null   float64\n",
            " 17  NAVARRA             1112 non-null   float64\n",
            " 18  CANARIAS            1112 non-null   float64\n",
            " 19  NORESTE             1112 non-null   float64\n",
            " 20  LEVANTE             1112 non-null   float64\n",
            " 21  ANDALUCIA           1112 non-null   float64\n",
            " 22  CENTRO-SUR          1112 non-null   float64\n",
            " 23  CASTILLA Y LEON     1112 non-null   float64\n",
            " 24  NOROESTE            1112 non-null   float64\n",
            " 25  NORTE               1112 non-null   float64\n",
            " 26  T.CANARIAS          1112 non-null   float64\n",
            " 27  Análisis            1112 non-null   object \n",
            "dtypes: float64(26), object(2)\n",
            "memory usage: 243.4+ KB\n",
            "None\n",
            "No hay valores NA en la tabla de datos\n",
            "\n",
            "Nombre de la tabla de datos: df_2012\n",
            "<class 'pandas.core.frame.DataFrame'>\n",
            "RangeIndex: 1112 entries, 0 to 1111\n",
            "Data columns (total 28 columns):\n",
            " #   Column              Non-Null Count  Dtype  \n",
            "---  ------              --------------  -----  \n",
            " 0   Unnamed: 0          1112 non-null   object \n",
            " 1   T.ESPAÑA            1112 non-null   float64\n",
            " 2   CATALUÑA            1112 non-null   float64\n",
            " 3   ARAGON              1112 non-null   float64\n",
            " 4   BALEARES            1112 non-null   float64\n",
            " 5   VALENCIA            1112 non-null   float64\n",
            " 6   MURCIA              1112 non-null   float64\n",
            " 7   T.ANDALUCIA         1112 non-null   float64\n",
            " 8   MADRID              1112 non-null   float64\n",
            " 9   CASTILLA LA MANCHA  1112 non-null   float64\n",
            " 10  EXTREMADURA         1112 non-null   float64\n",
            " 11  CASTILLA LEON       1112 non-null   float64\n",
            " 12  GALICIA             1112 non-null   float64\n",
            " 13  ASTURIAS            1112 non-null   float64\n",
            " 14  CANTABRIA           1112 non-null   float64\n",
            " 15  PAIS VASCO          1112 non-null   float64\n",
            " 16  LA RIOJA            1112 non-null   float64\n",
            " 17  NAVARRA             1112 non-null   float64\n",
            " 18  CANARIAS            1112 non-null   float64\n",
            " 19  NORESTE             1112 non-null   float64\n",
            " 20  LEVANTE             1112 non-null   float64\n",
            " 21  ANDALUCIA           1112 non-null   float64\n",
            " 22  CENTRO-SUR          1112 non-null   float64\n",
            " 23  CASTILLA Y LEON     1112 non-null   float64\n",
            " 24  NOROESTE            1112 non-null   float64\n",
            " 25  NORTE               1112 non-null   float64\n",
            " 26  T.CANARIAS          1112 non-null   float64\n",
            " 27  Análisis            1112 non-null   object \n",
            "dtypes: float64(26), object(2)\n",
            "memory usage: 243.4+ KB\n",
            "None\n",
            "No hay valores NA en la tabla de datos\n",
            "\n",
            "Nombre de la tabla de datos: df_2013\n",
            "<class 'pandas.core.frame.DataFrame'>\n",
            "RangeIndex: 1160 entries, 0 to 1159\n",
            "Data columns (total 28 columns):\n",
            " #   Column                  Non-Null Count  Dtype  \n",
            "---  ------                  --------------  -----  \n",
            " 0   Unnamed: 0              1160 non-null   object \n",
            " 1   T.ESPAÑA                1160 non-null   float64\n",
            " 2   CATALUÑA                1160 non-null   float64\n",
            " 3   ARAGÓN                  1160 non-null   float64\n",
            " 4   ILLES BALEARS           1160 non-null   float64\n",
            " 5   COMUNITAT VALENCIANA    1160 non-null   float64\n",
            " 6   REGIÓN DE MURCIA        1160 non-null   float64\n",
            " 7   ANDALUCÍA               1160 non-null   float64\n",
            " 8   COMUNIDAD DE MADRID     1160 non-null   float64\n",
            " 9   CASTILLA - LA MANCHA    1160 non-null   float64\n",
            " 10  EXTREMADURA             1160 non-null   float64\n",
            " 11  CASTILLA Y LEÓN         1160 non-null   float64\n",
            " 12  GALICIA                 1160 non-null   float64\n",
            " 13  PRINCIPADO DE ASTURIAS  1160 non-null   float64\n",
            " 14  CANTABRIA               1160 non-null   float64\n",
            " 15  PAIS VASCO              1160 non-null   float64\n",
            " 16  LA RIOJA                1160 non-null   float64\n",
            " 17  C. FORAL DE NAVARRA     1160 non-null   float64\n",
            " 18  CANARIAS                1160 non-null   float64\n",
            " 19  NORESTE                 1160 non-null   float64\n",
            " 20  LEVANTE                 1160 non-null   float64\n",
            " 21  ANDALUCIA               1160 non-null   float64\n",
            " 22  CENTRO-SUR              1160 non-null   float64\n",
            " 23  CASTILLA Y LEON         1160 non-null   float64\n",
            " 24  NOROESTE                1160 non-null   float64\n",
            " 25  NORTE                   1160 non-null   float64\n",
            " 26  T.CANARIAS              1160 non-null   float64\n",
            " 27  Análisis                1160 non-null   object \n",
            "dtypes: float64(26), object(2)\n",
            "memory usage: 253.9+ KB\n",
            "None\n",
            "No hay valores NA en la tabla de datos\n",
            "\n",
            "Nombre de la tabla de datos: df_2014\n",
            "<class 'pandas.core.frame.DataFrame'>\n",
            "RangeIndex: 1160 entries, 0 to 1159\n",
            "Data columns (total 28 columns):\n",
            " #   Column                  Non-Null Count  Dtype  \n",
            "---  ------                  --------------  -----  \n",
            " 0   Unnamed: 0              1160 non-null   object \n",
            " 1   T.ESPAÑA                1160 non-null   float64\n",
            " 2   CATALUÑA                1160 non-null   float64\n",
            " 3   ARAGÓN                  1160 non-null   float64\n",
            " 4   ILLES BALEARS           1160 non-null   float64\n",
            " 5   COMUNITAT VALENCIANA    1160 non-null   float64\n",
            " 6   REGIÓN DE MURCIA        1160 non-null   float64\n",
            " 7   ANDALUCÍA               1160 non-null   float64\n",
            " 8   COMUNIDAD DE MADRID     1160 non-null   float64\n",
            " 9   CASTILLA - LA MANCHA    1160 non-null   float64\n",
            " 10  EXTREMADURA             1160 non-null   float64\n",
            " 11  CASTILLA Y LEÓN         1160 non-null   float64\n",
            " 12  GALICIA                 1160 non-null   float64\n",
            " 13  PRINCIPADO DE ASTURIAS  1160 non-null   float64\n",
            " 14  CANTABRIA               1160 non-null   float64\n",
            " 15  PAIS VASCO              1160 non-null   float64\n",
            " 16  LA RIOJA                1160 non-null   float64\n",
            " 17  C. FORAL DE NAVARRA     1160 non-null   float64\n",
            " 18  CANARIAS                1160 non-null   float64\n",
            " 19  NORESTE                 1160 non-null   float64\n",
            " 20  LEVANTE                 1160 non-null   float64\n",
            " 21  ANDALUCIA               1160 non-null   float64\n",
            " 22  CENTRO-SUR              1160 non-null   float64\n",
            " 23  CASTILLA Y LEON         1160 non-null   float64\n",
            " 24  NOROESTE                1160 non-null   float64\n",
            " 25  NORTE                   1160 non-null   float64\n",
            " 26  T.CANARIAS              1160 non-null   float64\n",
            " 27  Análisis                1160 non-null   object \n",
            "dtypes: float64(26), object(2)\n",
            "memory usage: 253.9+ KB\n",
            "None\n",
            "No hay valores NA en la tabla de datos\n",
            "\n",
            "Nombre de la tabla de datos: df_2015\n",
            "<class 'pandas.core.frame.DataFrame'>\n",
            "RangeIndex: 1160 entries, 0 to 1159\n",
            "Data columns (total 28 columns):\n",
            " #   Column                  Non-Null Count  Dtype  \n",
            "---  ------                  --------------  -----  \n",
            " 0   Unnamed: 0              1160 non-null   object \n",
            " 1   T.ESPAÑA                1160 non-null   float64\n",
            " 2   CATALUÑA                1160 non-null   float64\n",
            " 3   ARAGÓN                  1160 non-null   float64\n",
            " 4   ILLES BALEARS           1160 non-null   float64\n",
            " 5   COMUNITAT VALENCIANA    1160 non-null   float64\n",
            " 6   REGIÓN DE MURCIA        1160 non-null   float64\n",
            " 7   ANDALUCÍA               1160 non-null   float64\n",
            " 8   COMUNIDAD DE MADRID     1160 non-null   float64\n",
            " 9   CASTILLA - LA MANCHA    1160 non-null   float64\n",
            " 10  EXTREMADURA             1160 non-null   float64\n",
            " 11  CASTILLA Y LEÓN         1160 non-null   float64\n",
            " 12  GALICIA                 1160 non-null   float64\n",
            " 13  PRINCIPADO DE ASTURIAS  1160 non-null   float64\n",
            " 14  CANTABRIA               1160 non-null   float64\n",
            " 15  PAIS VASCO              1160 non-null   float64\n",
            " 16  LA RIOJA                1160 non-null   float64\n",
            " 17  C. FORAL DE NAVARRA     1160 non-null   float64\n",
            " 18  CANARIAS                1160 non-null   float64\n",
            " 19  NORESTE                 1160 non-null   float64\n",
            " 20  LEVANTE                 1160 non-null   float64\n",
            " 21  ANDALUCIA               1160 non-null   float64\n",
            " 22  CENTRO-SUR              1160 non-null   float64\n",
            " 23  CASTILLA Y LEON         1160 non-null   float64\n",
            " 24  NOROESTE                1160 non-null   float64\n",
            " 25  NORTE                   1160 non-null   float64\n",
            " 26  T.CANARIAS              1160 non-null   float64\n",
            " 27  Análisis                1160 non-null   object \n",
            "dtypes: float64(26), object(2)\n",
            "memory usage: 253.9+ KB\n",
            "None\n",
            "No hay valores NA en la tabla de datos\n",
            "\n",
            "Nombre de la tabla de datos: df_2016\n",
            "<class 'pandas.core.frame.DataFrame'>\n",
            "RangeIndex: 1160 entries, 0 to 1159\n",
            "Data columns (total 28 columns):\n",
            " #   Column                  Non-Null Count  Dtype  \n",
            "---  ------                  --------------  -----  \n",
            " 0   Unnamed: 0              1160 non-null   object \n",
            " 1   T.ESPAÑA                1160 non-null   float64\n",
            " 2   CATALUÑA                1160 non-null   float64\n",
            " 3   ARAGÓN                  1160 non-null   float64\n",
            " 4   ILLES BALEARS           1160 non-null   float64\n",
            " 5   COMUNITAT VALENCIANA    1160 non-null   float64\n",
            " 6   REGIÓN DE MURCIA        1160 non-null   float64\n",
            " 7   ANDALUCÍA               1160 non-null   float64\n",
            " 8   COMUNIDAD DE MADRID     1160 non-null   float64\n",
            " 9   CASTILLA - LA MANCHA    1160 non-null   float64\n",
            " 10  EXTREMADURA             1160 non-null   float64\n",
            " 11  CASTILLA Y LEÓN         1160 non-null   float64\n",
            " 12  GALICIA                 1160 non-null   float64\n",
            " 13  PRINCIPADO DE ASTURIAS  1160 non-null   float64\n",
            " 14  CANTABRIA               1160 non-null   float64\n",
            " 15  PAIS VASCO              1160 non-null   float64\n",
            " 16  LA RIOJA                1160 non-null   float64\n",
            " 17  C. FORAL DE NAVARRA     1160 non-null   float64\n",
            " 18  CANARIAS                1160 non-null   float64\n",
            " 19  NORESTE                 1160 non-null   float64\n",
            " 20  LEVANTE                 1160 non-null   float64\n",
            " 21  ANDALUCIA               1160 non-null   float64\n",
            " 22  CENTRO-SUR              1160 non-null   float64\n",
            " 23  CASTILLA Y LEON         1160 non-null   float64\n",
            " 24  NOROESTE                1160 non-null   float64\n",
            " 25  NORTE                   1160 non-null   float64\n",
            " 26  T.CANARIAS              1160 non-null   float64\n",
            " 27  Análisis                1160 non-null   object \n",
            "dtypes: float64(26), object(2)\n",
            "memory usage: 253.9+ KB\n",
            "None\n",
            "No hay valores NA en la tabla de datos\n",
            "\n",
            "Nombre de la tabla de datos: df_2017\n",
            "<class 'pandas.core.frame.DataFrame'>\n",
            "RangeIndex: 1160 entries, 0 to 1159\n",
            "Data columns (total 28 columns):\n",
            " #   Column                  Non-Null Count  Dtype  \n",
            "---  ------                  --------------  -----  \n",
            " 0   Unnamed: 0              1160 non-null   object \n",
            " 1   T.ESPAÑA                1160 non-null   float64\n",
            " 2   CATALUÑA                1160 non-null   float64\n",
            " 3   ARAGÓN                  1160 non-null   float64\n",
            " 4   ILLES BALEARS           1160 non-null   float64\n",
            " 5   COMUNITAT VALENCIANA    1160 non-null   float64\n",
            " 6   REGIÓN DE MURCIA        1160 non-null   float64\n",
            " 7   ANDALUCÍA               1160 non-null   float64\n",
            " 8   COMUNIDAD DE MADRID     1160 non-null   float64\n",
            " 9   CASTILLA - LA MANCHA    1160 non-null   float64\n",
            " 10  EXTREMADURA             1160 non-null   float64\n",
            " 11  CASTILLA Y LEÓN         1160 non-null   float64\n",
            " 12  GALICIA                 1160 non-null   float64\n",
            " 13  PRINCIPADO DE ASTURIAS  1160 non-null   float64\n",
            " 14  CANTABRIA               1160 non-null   float64\n",
            " 15  PAIS VASCO              1160 non-null   float64\n",
            " 16  LA RIOJA                1160 non-null   float64\n",
            " 17  C. FORAL DE NAVARRA     1160 non-null   float64\n",
            " 18  CANARIAS                1160 non-null   float64\n",
            " 19  NORESTE                 1160 non-null   float64\n",
            " 20  LEVANTE                 1160 non-null   float64\n",
            " 21  ANDALUCIA               1160 non-null   float64\n",
            " 22  CENTRO-SUR              1160 non-null   float64\n",
            " 23  CASTILLA Y LEON         1160 non-null   float64\n",
            " 24  NOROESTE                1160 non-null   float64\n",
            " 25  NORTE                   1160 non-null   float64\n",
            " 26  T.CANARIAS              1160 non-null   float64\n",
            " 27  Análisis                1160 non-null   object \n",
            "dtypes: float64(26), object(2)\n",
            "memory usage: 253.9+ KB\n",
            "None\n",
            "No hay valores NA en la tabla de datos\n",
            "\n",
            "Nombre de la tabla de datos: df_2018\n",
            "<class 'pandas.core.frame.DataFrame'>\n",
            "RangeIndex: 1160 entries, 0 to 1159\n",
            "Data columns (total 28 columns):\n",
            " #   Column                  Non-Null Count  Dtype  \n",
            "---  ------                  --------------  -----  \n",
            " 0   Unnamed: 0              1160 non-null   object \n",
            " 1   T.ESPAÑA                1160 non-null   float64\n",
            " 2   CATALUÑA                1160 non-null   float64\n",
            " 3   ARAGÓN                  1160 non-null   float64\n",
            " 4   ILLES BALEARS           1160 non-null   float64\n",
            " 5   COMUNITAT VALENCIANA    1160 non-null   float64\n",
            " 6   REGIÓN DE MURCIA        1160 non-null   float64\n",
            " 7   ANDALUCÍA               1160 non-null   float64\n",
            " 8   COMUNIDAD DE MADRID     1160 non-null   float64\n",
            " 9   CASTILLA - LA MANCHA    1160 non-null   float64\n",
            " 10  EXTREMADURA             1160 non-null   float64\n",
            " 11  CASTILLA Y LEÓN         1160 non-null   float64\n",
            " 12  GALICIA                 1160 non-null   float64\n",
            " 13  PRINCIPADO DE ASTURIAS  1160 non-null   float64\n",
            " 14  CANTABRIA               1160 non-null   float64\n",
            " 15  PAIS VASCO              1160 non-null   float64\n",
            " 16  LA RIOJA                1160 non-null   float64\n",
            " 17  C. FORAL DE NAVARRA     1160 non-null   float64\n",
            " 18  CANARIAS                1160 non-null   float64\n",
            " 19  NORESTE                 1160 non-null   float64\n",
            " 20  LEVANTE                 1160 non-null   float64\n",
            " 21  ANDALUCIA               1160 non-null   float64\n",
            " 22  CENTRO-SUR              1160 non-null   float64\n",
            " 23  CASTILLA Y LEON         1160 non-null   float64\n",
            " 24  NOROESTE                1160 non-null   float64\n",
            " 25  NORTE                   1160 non-null   float64\n",
            " 26  T.CANARIAS              1160 non-null   float64\n",
            " 27  Análisis                1160 non-null   object \n",
            "dtypes: float64(26), object(2)\n",
            "memory usage: 253.9+ KB\n",
            "None\n",
            "No hay valores NA en la tabla de datos\n",
            "\n",
            "Nombre de la tabla de datos: df_2019\n",
            "<class 'pandas.core.frame.DataFrame'>\n",
            "RangeIndex: 1372 entries, 0 to 1371\n",
            "Data columns (total 20 columns):\n",
            " #   Column                  Non-Null Count  Dtype  \n",
            "---  ------                  --------------  -----  \n",
            " 0   Unnamed: 0              1372 non-null   object \n",
            " 1   T.ESPAÑA                1372 non-null   float64\n",
            " 2   CATALUÑA                1372 non-null   float64\n",
            " 3   ARAGÓN                  1372 non-null   float64\n",
            " 4   ILLES BALEARS           1372 non-null   float64\n",
            " 5   COMUNITAT VALENCIANA    1372 non-null   float64\n",
            " 6   REGIÓN DE MURCIA        1372 non-null   float64\n",
            " 7   ANDALUCÍA               1372 non-null   float64\n",
            " 8   COMUNIDAD DE MADRID     1372 non-null   float64\n",
            " 9   CASTILLA - LA MANCHA    1372 non-null   float64\n",
            " 10  EXTREMADURA             1372 non-null   float64\n",
            " 11  CASTILLA Y LEÓN         1372 non-null   float64\n",
            " 12  GALICIA                 1372 non-null   float64\n",
            " 13  PRINCIPADO DE ASTURIAS  1372 non-null   float64\n",
            " 14  CANTABRIA               1372 non-null   float64\n",
            " 15  PAIS VASCO              1372 non-null   float64\n",
            " 16  LA RIOJA                1372 non-null   float64\n",
            " 17  C. FORAL DE NAVARRA     1372 non-null   float64\n",
            " 18  CANARIAS                1372 non-null   float64\n",
            " 19  Análisis                1372 non-null   object \n",
            "dtypes: float64(18), object(2)\n",
            "memory usage: 214.5+ KB\n",
            "None\n",
            "No hay valores NA en la tabla de datos\n",
            "\n",
            "Nombre de la tabla de datos: df_2020\n",
            "<class 'pandas.core.frame.DataFrame'>\n",
            "RangeIndex: 1362 entries, 0 to 1361\n",
            "Data columns (total 20 columns):\n",
            " #   Column                  Non-Null Count  Dtype  \n",
            "---  ------                  --------------  -----  \n",
            " 0   Unnamed: 0              1362 non-null   object \n",
            " 1   T.ESPAÑA                1362 non-null   float64\n",
            " 2   CATALUÑA                1362 non-null   float64\n",
            " 3   ARAGÓN                  1362 non-null   float64\n",
            " 4   ILLES BALEARS           1362 non-null   float64\n",
            " 5   COMUNITAT VALENCIANA    1362 non-null   float64\n",
            " 6   REGIÓN DE MURCIA        1362 non-null   float64\n",
            " 7   ANDALUCÍA               1362 non-null   float64\n",
            " 8   COMUNIDAD DE MADRID     1362 non-null   float64\n",
            " 9   CASTILLA - LA MANCHA    1362 non-null   float64\n",
            " 10  EXTREMADURA             1362 non-null   float64\n",
            " 11  CASTILLA Y LEÓN         1362 non-null   float64\n",
            " 12  GALICIA                 1362 non-null   float64\n",
            " 13  PRINCIPADO DE ASTURIAS  1362 non-null   float64\n",
            " 14  CANTABRIA               1362 non-null   float64\n",
            " 15  PAIS VASCO              1362 non-null   float64\n",
            " 16  LA RIOJA                1362 non-null   float64\n",
            " 17  C. FORAL DE NAVARRA     1362 non-null   float64\n",
            " 18  CANARIAS                1362 non-null   float64\n",
            " 19  Análisis                1362 non-null   object \n",
            "dtypes: float64(18), object(2)\n",
            "memory usage: 212.9+ KB\n",
            "None\n",
            "No hay valores NA en la tabla de datos\n",
            "\n",
            "Nombre de la tabla de datos: df_2021\n",
            "<class 'pandas.core.frame.DataFrame'>\n",
            "RangeIndex: 1362 entries, 0 to 1361\n",
            "Data columns (total 20 columns):\n",
            " #   Column                  Non-Null Count  Dtype  \n",
            "---  ------                  --------------  -----  \n",
            " 0   Unnamed: 0              1362 non-null   object \n",
            " 1   T.ESPAÑA                1362 non-null   float64\n",
            " 2   CATALUÑA                1362 non-null   float64\n",
            " 3   ARAGÓN                  1362 non-null   float64\n",
            " 4   ILLES BALEARS           1362 non-null   float64\n",
            " 5   COMUNITAT VALENCIANA    1362 non-null   float64\n",
            " 6   REGIÓN DE MURCIA        1362 non-null   float64\n",
            " 7   ANDALUCÍA               1362 non-null   float64\n",
            " 8   COMUNIDAD DE MADRID     1362 non-null   float64\n",
            " 9   CASTILLA - LA MANCHA    1362 non-null   float64\n",
            " 10  EXTREMADURA             1362 non-null   float64\n",
            " 11  CASTILLA Y LEÓN         1362 non-null   float64\n",
            " 12  GALICIA                 1362 non-null   float64\n",
            " 13  PRINCIPADO DE ASTURIAS  1362 non-null   float64\n",
            " 14  CANTABRIA               1362 non-null   float64\n",
            " 15  PAIS VASCO              1362 non-null   float64\n",
            " 16  LA RIOJA                1362 non-null   float64\n",
            " 17  C. FORAL DE NAVARRA     1362 non-null   float64\n",
            " 18  CANARIAS                1362 non-null   float64\n",
            " 19  Análisis                1362 non-null   object \n",
            "dtypes: float64(18), object(2)\n",
            "memory usage: 212.9+ KB\n",
            "None\n",
            "No hay valores NA en la tabla de datos\n",
            "\n"
          ]
        }
      ]
    },
    {
      "cell_type": "markdown",
      "source": [
        "Revisando la información de cada tabla de datos, encontramos una incoherencia. Las tablas de datos df_2019, df_2020 y df_2021 tienen 20 columnas mientras que el resto de las tablas tienen 28 columnas.\n",
        "\n",
        "Hay columnas que no nos interesan para nuestro estudio, por lo que las eliminaremos haciendo que sean coherentes y muestren la misma información entre las distintas tablas de datos."
      ],
      "metadata": {
        "id": "Nt2YCGxqOIjp"
      }
    },
    {
      "cell_type": "code",
      "source": [
        "# Generamos una lista con el nombre de las columnas a eliminar\n",
        "columnas_eliminar = [\"NORESTE\", \"LEVANTE\", \"CENTRO-SUR\", \"NOROESTE\", \"NORTE\", \"NORESTE\", \"T.ESPAÑA\", \"CASTILLA LEON\", \"T.ANDALUCIA\", \"T.CANARIAS\"]\n",
        "\n",
        "# Mediante un bucle for, recorremos la lista con las tablas de datos eliminando de ellas las columnas indicadas anteriormente\n",
        "for df in lista_df:\n",
        "  df.drop(columns = columnas_eliminar, errors=\"ignore\", inplace=True)"
      ],
      "metadata": {
        "id": "g7PqNoCbekn7"
      },
      "execution_count": null,
      "outputs": []
    },
    {
      "cell_type": "markdown",
      "source": [
        "Otra incoherencia detectada es que los nombres de las variables para ciertas comunidades autónomas son distintos en varias tablas de datos, también los modificaremos para que sean coherentes entre sí."
      ],
      "metadata": {
        "id": "rtgH_uOSSXEh"
      }
    },
    {
      "cell_type": "code",
      "source": [
        "# Mediante un bucle for, sustituimos el nombre de las varibales para que sean coherentes entre las distintas tablas de datos\n",
        "for df in lista_df:\n",
        "  df.columns = df.columns.str.replace(\"CASTILLA LA MANCHA\", \"CASTILLA - LA MANCHA\", regex=False)\n",
        "  df.columns = df.columns.str.replace(\"CASTILLA DE MADRID\", \"MADRID\", regex=False)\n",
        "  df.columns = df.columns.str.replace(\"PRINCIPADO DE ASTURIAS\", \"ASTURIAS\", regex=False)\n",
        "  df.columns = df.columns.str.replace(\"ILLES BALEARS\", \"BALEARES\", regex=False)\n",
        "  df.columns = df.columns.str.replace(\"C. FORAL DE NAVARRA\", \"NAVARRA\", regex=False)\n",
        "  df.columns = df.columns.str.replace(\"COMUNITAT VALENCIANA\", \"VALENCIA\", regex=False)\n",
        "  df.columns = df.columns.str.replace(\"ANDALUCÍA\", \"ANDALUCIA\", regex=False)\n",
        "  df.columns = df.columns.str.replace(\"CASTILLA Y LEÓN\", \"CASTILLA Y LEON\", regex=False)\n",
        "  df.columns = df.columns.str.replace(\"ARAGÓN\", \"ARAGON\", regex=False)\n",
        "  df.columns = df.columns.str.replace(\"REGIÓN DE MURCIA\", \"MURCIA\", regex=False)\n",
        "  df.columns = df.columns.str.replace(\"COMUNIDAD DE MADRID\", \"MADRID\", regex=False)\n",
        "  df.sort_index(axis=1, inplace=True)"
      ],
      "metadata": {
        "id": "Fk2tWIKMw8ci"
      },
      "execution_count": null,
      "outputs": []
    },
    {
      "cell_type": "markdown",
      "source": [
        "La última de las incoherencias detectadas, es que en varias de las tablas de datos, se repiten el nombre de las variables de ciertas columnas, por lo que eliminaremos las columnas con valores duplicados."
      ],
      "metadata": {
        "id": "CP3blLPtSsyZ"
      }
    },
    {
      "cell_type": "code",
      "source": [
        "# Mediante un bucle for eliminamos las columnas duplicadas en algunos de los datasets correspondientes a las Comunidades Autónomas de \"Andalucia\" y \"Castilla y León\"\n",
        "for i in range(len(lista_df)):\n",
        "   lista_df[i] = lista_df[i].loc[:, ~lista_df[i].columns.duplicated()]\n",
        "   # Imprimimos en pantalla el número de filas y columnas de cada tabla de datos para comprobar que coinciden\n",
        "   print(df.shape)"
      ],
      "metadata": {
        "id": "6Ff97OUa-SDb",
        "colab": {
          "base_uri": "https://localhost:8080/"
        },
        "outputId": "432906e8-ca6d-406c-8aaf-6537cc39a73d"
      },
      "execution_count": null,
      "outputs": [
        {
          "output_type": "stream",
          "name": "stdout",
          "text": [
            "(1362, 19)\n",
            "(1362, 19)\n",
            "(1362, 19)\n",
            "(1362, 19)\n",
            "(1362, 19)\n",
            "(1362, 19)\n",
            "(1362, 19)\n",
            "(1362, 19)\n",
            "(1362, 19)\n",
            "(1362, 19)\n",
            "(1362, 19)\n"
          ]
        }
      ]
    },
    {
      "cell_type": "markdown",
      "source": [
        "## 3. Generación de tablas preprocesadas"
      ],
      "metadata": {
        "id": "3qvgmsZ3uwH1"
      }
    },
    {
      "cell_type": "markdown",
      "source": [
        "Una vez cargados los conjuntos de datos y realizado el análisis exploratorio de datos (EDA), procederemos a obtener las tablas de datos preprocesados con la estructura y formato adecuados para alimentar la herramienta de visualización que utilizaremos en la generación del cuadro de mandos."
      ],
      "metadata": {
        "id": "qYMTrfhrUWV4"
      }
    },
    {
      "cell_type": "markdown",
      "source": [
        "En primer lugar, añadimos una columna con el año correspondiente para cada una de las tablas de datos."
      ],
      "metadata": {
        "id": "5FkN98ZvVhSS"
      }
    },
    {
      "cell_type": "code",
      "source": [
        "# Generamos una lista con los distintos años a introducir en las tablas de datos\n",
        "files = [\"2011\", \"2012\", \"2013\", \"2014\", \"2015\", \"2016\", \"2017\", \"2018\", \"2019\", \"2020\", \"2021\"]\n",
        "\n",
        "# Creamos la función \"add_year\" la cual introduce en la tabla de datos\n",
        "def add_year(df, year):\n",
        "  df[\"Año\"] = year\n",
        "  return df\n",
        "\n",
        "df_2011 = add_year(lista_df[0], files[0])\n",
        "df_2012 = add_year(lista_df[1], files[1])\n",
        "df_2013 = add_year(lista_df[2], files[2])\n",
        "df_2014 = add_year(lista_df[3], files[3])\n",
        "df_2015 = add_year(lista_df[4], files[4])\n",
        "df_2016 = add_year(lista_df[5], files[5])\n",
        "df_2017 = add_year(lista_df[6], files[6])\n",
        "df_2018 = add_year(lista_df[7], files[7])\n",
        "df_2019 = add_year(lista_df[8], files[8])\n",
        "df_2020 = add_year(lista_df[9], files[9])\n",
        "df_2021 = add_year(lista_df[10], files[10])\n",
        "\n",
        "lista_df_2 = [df_2011, df_2012, df_2013, df_2014,df_2015,df_2016,df_2017,df_2018, df_2019, df_2020, df_2021]"
      ],
      "metadata": {
        "id": "eju87_0BbD-e"
      },
      "execution_count": null,
      "outputs": []
    },
    {
      "cell_type": "markdown",
      "source": [
        "A continuación, unimos todas las tablas de datos correspondientes a cada uno de los años registrados en una sola denominada \"df_total\"."
      ],
      "metadata": {
        "id": "8boEw4K675ZG"
      }
    },
    {
      "cell_type": "code",
      "source": [
        "# Juntamos en una tabla de datos todas las correspondientes a los distintos años\n",
        "df_total = pd.concat(lista_df_2)"
      ],
      "metadata": {
        "id": "nZVHbeIm0YPL"
      },
      "execution_count": null,
      "outputs": []
    },
    {
      "cell_type": "markdown",
      "source": [
        "Una vez tenemos todas las tablas de datos unificadas en una sola \"df_total\", procedemos a modificar el nombre de una de sus variables, de \"Unnamed: 0\" a \"Categoría\"."
      ],
      "metadata": {
        "id": "SgArwzWDeKzW"
      }
    },
    {
      "cell_type": "code",
      "source": [
        "# Modificamos el nombre de la variable \"Unnamed: 0\"\n",
        "df_total = df_total.rename(columns = {\"Unnamed: 0\" : \"Categoria\"})"
      ],
      "metadata": {
        "id": "AuJgOE6Z8moV"
      },
      "execution_count": null,
      "outputs": []
    },
    {
      "cell_type": "markdown",
      "source": [
        "Dado que tenemos una gran cantidad de alimentos distintos en la variable \"Categoría\", hemos decidido quedarnos con los princiopales para el estudio, por lo que realizaremos un filtrado en la tabla de datos unificada con la finalidad de quedarnos solamente con los que nos interesan."
      ],
      "metadata": {
        "id": "7ABEOozc9NMJ"
      }
    },
    {
      "cell_type": "code",
      "source": [
        "# Creamos una nueva tabla de datos con las categorias de alimentación que nos interesan para el análisis\n",
        "categoria = [\"TOTAL CARNE\", \"TOTAL PESCA\", \"TOTAL LECHE LIQUIDA\", \"T.HUEVOS KGS\", \"DERIVADOS LACTEOS\",\n",
        "              \"PAN\", \"BOLL.PAST.GALLET.CERE\", \"CHOCOLATES/CACAOS/SUC\", \"ARROZ\", \"TOTAL PASTAS\", \"AZUCAR\",\n",
        "              \"LEGUMBRES\", \"T.FRUTAS FRESCAS\", \"T.HORTALEZAS FRESCAS\", \"TOTAL PATATAS\", \"FRUTOS SECOS\",\n",
        "              \"PLATOS PREPARADOS\", \"CAFES E INFUSIONES\", \"TOTAL VINOS\", \"CERVEZAS\", \"T.BEBIDAS ESPIRITUOSA\",\n",
        "              \"TOTAL ZUMO Y NECTAR\", \".T.ALIMENT.ECOLOGICOS\"]\n",
        "\n",
        "df_total_filtrado = df_total[df_total[\"Categoria\"].isin(categoria)]"
      ],
      "metadata": {
        "id": "G65hi9LM9i9K"
      },
      "execution_count": null,
      "outputs": []
    },
    {
      "cell_type": "markdown",
      "source": [
        "Una vez filtrada la tabla de datos, vamos a transformar su formato de ancho a largo, adecuandola para su posterior uso en la herramienta de generación de cuadros de mando."
      ],
      "metadata": {
        "id": "6JTbCtv0AXXt"
      }
    },
    {
      "cell_type": "code",
      "source": [
        "# Transformamos el formato de ancho a largo, manteniendo las variables \"Año\", \"Categoria\" y \"Analisis\" como identificadores\n",
        "df_final = df_total_filtrado.melt(id_vars=[\"Año\", \"Categoria\", \"Análisis\"], var_name=\"Territorio\")\n",
        "\n",
        "# Comprobamos que el cambio de ha realizado correctamente\n",
        "df_final.info()"
      ],
      "metadata": {
        "id": "J2Io7Jgh8ybS",
        "colab": {
          "base_uri": "https://localhost:8080/"
        },
        "outputId": "79e1332d-e380-4054-a6f9-a429e140ee88"
      },
      "execution_count": null,
      "outputs": [
        {
          "output_type": "stream",
          "name": "stdout",
          "text": [
            "<class 'pandas.core.frame.DataFrame'>\n",
            "RangeIndex: 7888 entries, 0 to 7887\n",
            "Data columns (total 5 columns):\n",
            " #   Column      Non-Null Count  Dtype  \n",
            "---  ------      --------------  -----  \n",
            " 0   Año         7888 non-null   object \n",
            " 1   Categoria   7888 non-null   object \n",
            " 2   Análisis    7888 non-null   object \n",
            " 3   Territorio  7888 non-null   object \n",
            " 4   value       7888 non-null   float64\n",
            "dtypes: float64(1), object(4)\n",
            "memory usage: 308.2+ KB\n"
          ]
        }
      ]
    },
    {
      "cell_type": "markdown",
      "source": [
        "Modificar el tipo de variable de la columna \"Año\" a formato fecha"
      ],
      "metadata": {
        "id": "yeSoux5bA66S"
      }
    },
    {
      "cell_type": "code",
      "source": [
        "# Modificamos el formato de los datos de la variable \"Año\"\n",
        "df_final[\"Año\"]= pd.to_datetime(df_final[\"Año\"], format=\"%Y\")"
      ],
      "metadata": {
        "id": "ccPV88PfGgIE"
      },
      "execution_count": null,
      "outputs": []
    },
    {
      "cell_type": "markdown",
      "source": [
        "Sustituimos el nombre de varios registros de la variable \"Categorías\" por nombres más apropiados"
      ],
      "metadata": {
        "id": "vYQUVrYEVvt-"
      }
    },
    {
      "cell_type": "code",
      "source": [
        "# Creamos un diccionario con las denominaciones a sustituir junto a su sustituto\n",
        "reemplazos = {\"TOTAL CARNE\": \"CARNE\",\"TOTAL PESCA\": \"PESCA\", \"TOTAL LECHE LIQUIDA\": \"LECHE LÍQUIDA\", \"T.HUEVOS KGS\": \"HUEVOS\",\"TOTAL PASTAS\": \"PASTA\",\n",
        "    \"T.FRUTAS FRESCAS\": \"FRUTAS FRESCAS\", \"T.HORTALEZAS FRESCAS\": \"HORTALIZAS FRESCAS\", \"TOTAL PATATAS\": \"PATATAS\", \"TOTAL VINOS\": \"VINOS\",\n",
        "    \"T.BEBIDAS ESPIRITUOSA\": \"BEBIDAS ESPIRITUOSAS\", \"TOTAL ZUMO Y NECTAR\": \"ZUMOS\", \".T.ALIMENT.ECOLOGICOS\": \"ALIMENTOS ECOLÓGICOS\"}\n",
        "\n",
        "# Sustituimos en la columna \"Categoría\" los valores definidos en el diccionario anterior\n",
        "df_final[\"Categoria\"] = df_final[\"Categoria\"].replace(reemplazos)"
      ],
      "metadata": {
        "id": "TljqlLXGJVlf"
      },
      "execution_count": null,
      "outputs": []
    },
    {
      "cell_type": "markdown",
      "source": [
        "Guardamos la tabla de datos en formato .csv con el nombre de \"tabla_preprocesada.csv\", la cual utilizaremos para generar el cuadro de mandos."
      ],
      "metadata": {
        "id": "_b1sRaHXV92T"
      }
    },
    {
      "cell_type": "code",
      "source": [
        "# Guardamos en un archivo .csv la tabla de datos\n",
        "df_final.to_csv(\"tabla_preprocesada.csv\", index=False, encoding=\"utf8\")"
      ],
      "metadata": {
        "id": "Q1mv8qc03fo0"
      },
      "execution_count": null,
      "outputs": []
    },
    {
      "cell_type": "markdown",
      "source": [
        "Una vez ejecutado todo el código, en la parte izquierda de la interfaz, dentro de la carpeta de archivos, encontraremos la tabla de datos preprocesada lista para su descarga."
      ],
      "metadata": {
        "id": "rhAz3NJ-WEyN"
      }
    }
  ]
}